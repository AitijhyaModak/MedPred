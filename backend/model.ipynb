{
 "cells": [
  {
   "cell_type": "code",
   "execution_count": 6,
   "metadata": {},
   "outputs": [],
   "source": [
    "import numpy as np\n",
    "import pandas as pd\n",
    "import matplotlib.pyplot as plt\n",
    "\n",
    "dataset = pd.read_csv('./Training.csv')\n",
    "labels = dataset['prognosis']\n",
    "data = dataset.drop('prognosis', axis = 1)\n",
    "\n",
    "n = len(dataset.columns)\n",
    "symptom_columns = [col.lower().replace('_',' ').strip() for col in dataset.columns[:n-1]]\n",
    "data.columns = symptom_columns"
   ]
  },
  {
   "cell_type": "code",
   "execution_count": 7,
   "metadata": {},
   "outputs": [],
   "source": [
    "from sklearn.model_selection import train_test_split\n",
    "from sklearn.preprocessing import LabelEncoder\n",
    "\n",
    "X = dataset.drop('prognosis', axis=1)\n",
    "y = dataset['prognosis']\n",
    "\n",
    "le = LabelEncoder()\n",
    "Y = le.fit_transform(y)\n",
    "mapping = dict(zip(le.classes_, range(len(le.classes_))))\n",
    "mapping2 = dict((v, k) for k, v in mapping.items())\n",
    "    \n",
    "X_train, X_test, y_train, y_test = train_test_split(X, Y, test_size=0.0000001, random_state = 20)"
   ]
  },
  {
   "cell_type": "code",
   "execution_count": 8,
   "metadata": {},
   "outputs": [
    {
     "name": "stdout",
     "output_type": "stream",
     "text": [
      "Train accuracy 1.00\n"
     ]
    }
   ],
   "source": [
    "from sklearn import model_selection\n",
    "from sklearn.linear_model import LogisticRegression, LinearRegression\n",
    "from mlxtend.classifier import StackingClassifier\n",
    "from sklearn.ensemble import HistGradientBoostingClassifier\n",
    "from sklearn.ensemble import AdaBoostClassifier\n",
    "from sklearn.tree import DecisionTreeClassifier\n",
    "from mlxtend.classifier import StackingCVClassifier\n",
    "\n",
    "from sklearn.datasets import make_classification\n",
    "from sklearn.svm import SVC\n",
    "from sklearn.ensemble import RandomForestClassifier, GradientBoostingClassifier\n",
    "from sklearn.neighbors import KNeighborsClassifier\n",
    "from sklearn.naive_bayes import MultinomialNB\n",
    "from sklearn.metrics import accuracy_score, confusion_matrix\n",
    "  \n",
    "\n",
    "clf1 = SVC(kernel = 'rbf')\n",
    "clf2 = RandomForestClassifier(n_estimators = 100, random_state = 42)\n",
    "clf4 = KNeighborsClassifier(n_neighbors = 5)\n",
    "clf5 = MultinomialNB()\n",
    "lr = KNeighborsClassifier(n_neighbors = 5)\n",
    "sclf = StackingClassifier(classifiers = [clf1, clf2, clf4, clf5], meta_classifier = lr)\n",
    "\n",
    "sclf.fit(X_train, y_train)\n",
    "#predictions = sclf.predict(X_test)\n",
    "#accuracy = accuracy_score(y_test, predictions)\n",
    "#print(accuracy)\n",
    "print(\"Train accuracy %0.2f\" % sclf.score(X_train, y_train))\n",
    "#print(\"Test accuracy %0.2f\" % sclf.score(X_test, y_test))\n",
    "\n"
   ]
  },
  {
   "cell_type": "code",
   "execution_count": null,
   "metadata": {},
   "outputs": [
    {
     "name": "stdout",
     "output_type": "stream",
     "text": [
      "['high fever', 'mild fever', 'headache', 'muscle pain', 'joint pain', 'knee pain', 'hip joint pain', 'skin rash', 'vomiting', 'nausea']\n",
      "['cough', 'chest pain', 'high fever', 'mild fever', 'fatigue', 'chills']\n"
     ]
    },
    {
     "name": "stderr",
     "output_type": "stream",
     "text": [
      "c:\\Users\\aitij\\miniconda3\\Lib\\site-packages\\sklearn\\utils\\validation.py:2739: UserWarning: X does not have valid feature names, but SVC was fitted with feature names\n",
      "  warnings.warn(\n",
      "c:\\Users\\aitij\\miniconda3\\Lib\\site-packages\\sklearn\\utils\\validation.py:2739: UserWarning: X does not have valid feature names, but RandomForestClassifier was fitted with feature names\n",
      "  warnings.warn(\n",
      "c:\\Users\\aitij\\miniconda3\\Lib\\site-packages\\sklearn\\utils\\validation.py:2739: UserWarning: X does not have valid feature names, but KNeighborsClassifier was fitted with feature names\n",
      "  warnings.warn(\n",
      "c:\\Users\\aitij\\miniconda3\\Lib\\site-packages\\sklearn\\utils\\validation.py:2739: UserWarning: X does not have valid feature names, but MultinomialNB was fitted with feature names\n",
      "  warnings.warn(\n",
      "c:\\Users\\aitij\\miniconda3\\Lib\\site-packages\\sklearn\\utils\\validation.py:2739: UserWarning: X does not have valid feature names, but SVC was fitted with feature names\n",
      "  warnings.warn(\n",
      "c:\\Users\\aitij\\miniconda3\\Lib\\site-packages\\sklearn\\utils\\validation.py:2739: UserWarning: X does not have valid feature names, but RandomForestClassifier was fitted with feature names\n",
      "  warnings.warn(\n",
      "c:\\Users\\aitij\\miniconda3\\Lib\\site-packages\\sklearn\\utils\\validation.py:2739: UserWarning: X does not have valid feature names, but KNeighborsClassifier was fitted with feature names\n",
      "  warnings.warn(\n",
      "c:\\Users\\aitij\\miniconda3\\Lib\\site-packages\\sklearn\\utils\\validation.py:2739: UserWarning: X does not have valid feature names, but MultinomialNB was fitted with feature names\n",
      "  warnings.warn(\n"
     ]
    },
    {
     "name": "stdout",
     "output_type": "stream",
     "text": [
      "['stomach pain', 'abdominal pain', 'belly pain', 'diarrhoea', 'vomiting', 'nausea', 'loss of appetite', 'excessive hunger', 'increased appetite', 'weight loss']\n",
      "['itching', 'skin rash', 'redness of eyes', 'runny nose', 'continuous sneezing', 'congestion']\n"
     ]
    },
    {
     "name": "stderr",
     "output_type": "stream",
     "text": [
      "c:\\Users\\aitij\\miniconda3\\Lib\\site-packages\\sklearn\\utils\\validation.py:2739: UserWarning: X does not have valid feature names, but SVC was fitted with feature names\n",
      "  warnings.warn(\n",
      "c:\\Users\\aitij\\miniconda3\\Lib\\site-packages\\sklearn\\utils\\validation.py:2739: UserWarning: X does not have valid feature names, but RandomForestClassifier was fitted with feature names\n",
      "  warnings.warn(\n",
      "c:\\Users\\aitij\\miniconda3\\Lib\\site-packages\\sklearn\\utils\\validation.py:2739: UserWarning: X does not have valid feature names, but KNeighborsClassifier was fitted with feature names\n",
      "  warnings.warn(\n",
      "c:\\Users\\aitij\\miniconda3\\Lib\\site-packages\\sklearn\\utils\\validation.py:2739: UserWarning: X does not have valid feature names, but MultinomialNB was fitted with feature names\n",
      "  warnings.warn(\n",
      "c:\\Users\\aitij\\miniconda3\\Lib\\site-packages\\sklearn\\utils\\validation.py:2739: UserWarning: X does not have valid feature names, but SVC was fitted with feature names\n",
      "  warnings.warn(\n",
      "c:\\Users\\aitij\\miniconda3\\Lib\\site-packages\\sklearn\\utils\\validation.py:2739: UserWarning: X does not have valid feature names, but RandomForestClassifier was fitted with feature names\n",
      "  warnings.warn(\n",
      "c:\\Users\\aitij\\miniconda3\\Lib\\site-packages\\sklearn\\utils\\validation.py:2739: UserWarning: X does not have valid feature names, but KNeighborsClassifier was fitted with feature names\n",
      "  warnings.warn(\n",
      "c:\\Users\\aitij\\miniconda3\\Lib\\site-packages\\sklearn\\utils\\validation.py:2739: UserWarning: X does not have valid feature names, but MultinomialNB was fitted with feature names\n",
      "  warnings.warn(\n"
     ]
    },
    {
     "name": "stdout",
     "output_type": "stream",
     "text": [
      "['dizziness', 'sweating', 'palpitations', 'vomiting', 'nausea', 'blurred and distorted vision', 'muscle weakness']\n",
      "['weight loss', 'fatigue', 'blurred and distorted vision']\n"
     ]
    },
    {
     "name": "stderr",
     "output_type": "stream",
     "text": [
      "c:\\Users\\aitij\\miniconda3\\Lib\\site-packages\\sklearn\\utils\\validation.py:2739: UserWarning: X does not have valid feature names, but SVC was fitted with feature names\n",
      "  warnings.warn(\n",
      "c:\\Users\\aitij\\miniconda3\\Lib\\site-packages\\sklearn\\utils\\validation.py:2739: UserWarning: X does not have valid feature names, but RandomForestClassifier was fitted with feature names\n",
      "  warnings.warn(\n",
      "c:\\Users\\aitij\\miniconda3\\Lib\\site-packages\\sklearn\\utils\\validation.py:2739: UserWarning: X does not have valid feature names, but KNeighborsClassifier was fitted with feature names\n",
      "  warnings.warn(\n",
      "c:\\Users\\aitij\\miniconda3\\Lib\\site-packages\\sklearn\\utils\\validation.py:2739: UserWarning: X does not have valid feature names, but MultinomialNB was fitted with feature names\n",
      "  warnings.warn(\n",
      "c:\\Users\\aitij\\miniconda3\\Lib\\site-packages\\sklearn\\utils\\validation.py:2739: UserWarning: X does not have valid feature names, but SVC was fitted with feature names\n",
      "  warnings.warn(\n",
      "c:\\Users\\aitij\\miniconda3\\Lib\\site-packages\\sklearn\\utils\\validation.py:2739: UserWarning: X does not have valid feature names, but RandomForestClassifier was fitted with feature names\n",
      "  warnings.warn(\n",
      "c:\\Users\\aitij\\miniconda3\\Lib\\site-packages\\sklearn\\utils\\validation.py:2739: UserWarning: X does not have valid feature names, but KNeighborsClassifier was fitted with feature names\n",
      "  warnings.warn(\n",
      "c:\\Users\\aitij\\miniconda3\\Lib\\site-packages\\sklearn\\utils\\validation.py:2739: UserWarning: X does not have valid feature names, but MultinomialNB was fitted with feature names\n",
      "  warnings.warn(\n"
     ]
    },
    {
     "name": "stdout",
     "output_type": "stream",
     "text": [
      "['throat irritation', 'swelled lymph nodes', 'high fever', 'mild fever', 'cough']\n",
      "['yellowish skin', 'fatigue', 'dark urine', 'yellow urine', 'loss of appetite', 'excessive hunger', 'increased appetite', 'vomiting', 'nausea', 'swelling of stomach', 'swollen legs', 'swollen extremeties']\n"
     ]
    },
    {
     "name": "stderr",
     "output_type": "stream",
     "text": [
      "c:\\Users\\aitij\\miniconda3\\Lib\\site-packages\\sklearn\\utils\\validation.py:2739: UserWarning: X does not have valid feature names, but SVC was fitted with feature names\n",
      "  warnings.warn(\n",
      "c:\\Users\\aitij\\miniconda3\\Lib\\site-packages\\sklearn\\utils\\validation.py:2739: UserWarning: X does not have valid feature names, but RandomForestClassifier was fitted with feature names\n",
      "  warnings.warn(\n",
      "c:\\Users\\aitij\\miniconda3\\Lib\\site-packages\\sklearn\\utils\\validation.py:2739: UserWarning: X does not have valid feature names, but KNeighborsClassifier was fitted with feature names\n",
      "  warnings.warn(\n",
      "c:\\Users\\aitij\\miniconda3\\Lib\\site-packages\\sklearn\\utils\\validation.py:2739: UserWarning: X does not have valid feature names, but MultinomialNB was fitted with feature names\n",
      "  warnings.warn(\n",
      "c:\\Users\\aitij\\miniconda3\\Lib\\site-packages\\sklearn\\utils\\validation.py:2739: UserWarning: X does not have valid feature names, but SVC was fitted with feature names\n",
      "  warnings.warn(\n",
      "c:\\Users\\aitij\\miniconda3\\Lib\\site-packages\\sklearn\\utils\\validation.py:2739: UserWarning: X does not have valid feature names, but RandomForestClassifier was fitted with feature names\n",
      "  warnings.warn(\n",
      "c:\\Users\\aitij\\miniconda3\\Lib\\site-packages\\sklearn\\utils\\validation.py:2739: UserWarning: X does not have valid feature names, but KNeighborsClassifier was fitted with feature names\n",
      "  warnings.warn(\n",
      "c:\\Users\\aitij\\miniconda3\\Lib\\site-packages\\sklearn\\utils\\validation.py:2739: UserWarning: X does not have valid feature names, but MultinomialNB was fitted with feature names\n",
      "  warnings.warn(\n"
     ]
    },
    {
     "name": "stdout",
     "output_type": "stream",
     "text": [
      "['joint pain', 'knee pain', 'hip joint pain', 'stiff neck', 'movement stiffness', 'swelling of stomach', 'swollen legs', 'swollen extremeties', 'swelling joints', 'fatigue', 'high fever', 'mild fever']\n",
      "['chest pain', 'vomiting', 'nausea', 'sweating', 'dizziness', 'fatigue']\n",
      "['Hypoglycemia', 'Dimorphic hemmorhoids(piles)', 'Gastroenteritis', 'Diabetes ', 'Hepatitis D', 'Drug Reaction', 'Diabetes ', 'Hepatitis D', 'Osteoarthristis', 'Heart attack']\n"
     ]
    },
    {
     "name": "stderr",
     "output_type": "stream",
     "text": [
      "c:\\Users\\aitij\\miniconda3\\Lib\\site-packages\\sklearn\\utils\\validation.py:2739: UserWarning: X does not have valid feature names, but SVC was fitted with feature names\n",
      "  warnings.warn(\n",
      "c:\\Users\\aitij\\miniconda3\\Lib\\site-packages\\sklearn\\utils\\validation.py:2739: UserWarning: X does not have valid feature names, but RandomForestClassifier was fitted with feature names\n",
      "  warnings.warn(\n",
      "c:\\Users\\aitij\\miniconda3\\Lib\\site-packages\\sklearn\\utils\\validation.py:2739: UserWarning: X does not have valid feature names, but KNeighborsClassifier was fitted with feature names\n",
      "  warnings.warn(\n",
      "c:\\Users\\aitij\\miniconda3\\Lib\\site-packages\\sklearn\\utils\\validation.py:2739: UserWarning: X does not have valid feature names, but MultinomialNB was fitted with feature names\n",
      "  warnings.warn(\n",
      "c:\\Users\\aitij\\miniconda3\\Lib\\site-packages\\sklearn\\utils\\validation.py:2739: UserWarning: X does not have valid feature names, but SVC was fitted with feature names\n",
      "  warnings.warn(\n",
      "c:\\Users\\aitij\\miniconda3\\Lib\\site-packages\\sklearn\\utils\\validation.py:2739: UserWarning: X does not have valid feature names, but RandomForestClassifier was fitted with feature names\n",
      "  warnings.warn(\n",
      "c:\\Users\\aitij\\miniconda3\\Lib\\site-packages\\sklearn\\utils\\validation.py:2739: UserWarning: X does not have valid feature names, but KNeighborsClassifier was fitted with feature names\n",
      "  warnings.warn(\n",
      "c:\\Users\\aitij\\miniconda3\\Lib\\site-packages\\sklearn\\utils\\validation.py:2739: UserWarning: X does not have valid feature names, but MultinomialNB was fitted with feature names\n",
      "  warnings.warn(\n"
     ]
    }
   ],
   "source": [
    "from sentence_transformers import SentenceTransformer, util\n",
    "\n",
    "model = SentenceTransformer('all-MiniLM-L6-v2')\n",
    "\n",
    "\n",
    "symptom_embeddings = model.encode(symptom_columns)\n",
    "\n",
    "def match_synonyms(user_text, threshold=0.7):\n",
    "    user_embedding = model.encode(user_text)\n",
    "    indices = []\n",
    "\n",
    "    matched_symptoms = []\n",
    "    for j in user_text.split(','):\n",
    "        user_embedding = model.encode(j)\n",
    "        for i, symptom in enumerate(symptom_columns):\n",
    "            similarity = util.cos_sim(user_embedding, symptom_embeddings[i]).item()\n",
    "            if similarity > threshold:\n",
    "                matched_symptoms.append(symptom)\n",
    "                indices.append(i)\n",
    "    print(matched_symptoms)\n",
    "    return indices\n",
    "\n",
    "\n",
    "# symptom_data = [\n",
    "#     \"Fever, Headache, Muscle pain, Joint pain, Rash, Nausea\",\n",
    "#     \"Cough, Shortness of breath, Chest pain, Fever, Fatigue, Chills\",\n",
    "#     \"Abdominal pain, Diarrhea, Vomiting, Bloating, Loss of appetite, Weight loss\",\n",
    "#     \"Itchy skin, Red eyes, Runny nose, Sneezing, Congestion, Wheezing\",\n",
    "#     \"Dizziness, Sweating, Palpitations, Nausea, Blurred vision, Weakness\",\n",
    "#     \"Frequent urination, Excessive thirst, Weight loss, Fatigue, Blurry vision\",\n",
    "#     \"Sore throat, Swollen lymph nodes, Fever, Body aches, Loss of taste, Cough\",\n",
    "#     \"Yellow skin, Fatigue, Dark urine, Loss of appetite, Nausea, Swollen abdomen\",\n",
    "#     \"Joint pain, Stiffness, Swelling, Fatigue, Fever, Reduced range of motion\",\n",
    "#     \"Chest pain, Nausea, Cold sweat, Dizziness, Shortness of breath, Fatigue\"\n",
    "# ]\n",
    "\n",
    "# vec_all0 = [0 for x in range(0, len(symptom_columns))]\n",
    "# output=[]\n",
    "\n",
    "# for i in symptom_data:\n",
    "#     indices = match_synonyms(i)\n",
    "#     vec = vec_all0.copy()\n",
    "\n",
    "#     for j in indices:\n",
    "#         vec[j] = 1\n",
    "        \n",
    "#     vec = np.array(vec).reshape(1, -1)\n",
    "#     a = sclf.predict(vec)\n",
    "#     a = a[0]\n",
    "#     output.append(mapping2[a])\n",
    "\n",
    "# print(output)\n",
    "\n",
    "     "
   ]
  },
  {
   "cell_type": "code",
   "execution_count": 15,
   "metadata": {},
   "outputs": [
    {
     "name": "stdout",
     "output_type": "stream",
     "text": [
      "Translated Text: Since yesterday I have had a rash in my hands and chests, with which itching all over the body is also happening.\n",
      "Extracted Symptoms: ['rash', 'itching']\n",
      "rash, itching, \n",
      "['skin rash', 'itching', 'internal itching']\n",
      "Fungal infection\n"
     ]
    },
    {
     "name": "stderr",
     "output_type": "stream",
     "text": [
      "c:\\Users\\aitij\\miniconda3\\Lib\\site-packages\\sklearn\\utils\\validation.py:2739: UserWarning: X does not have valid feature names, but SVC was fitted with feature names\n",
      "  warnings.warn(\n",
      "c:\\Users\\aitij\\miniconda3\\Lib\\site-packages\\sklearn\\utils\\validation.py:2739: UserWarning: X does not have valid feature names, but RandomForestClassifier was fitted with feature names\n",
      "  warnings.warn(\n",
      "c:\\Users\\aitij\\miniconda3\\Lib\\site-packages\\sklearn\\utils\\validation.py:2739: UserWarning: X does not have valid feature names, but KNeighborsClassifier was fitted with feature names\n",
      "  warnings.warn(\n",
      "c:\\Users\\aitij\\miniconda3\\Lib\\site-packages\\sklearn\\utils\\validation.py:2739: UserWarning: X does not have valid feature names, but MultinomialNB was fitted with feature names\n",
      "  warnings.warn(\n"
     ]
    }
   ],
   "source": [
    "import spacy\n",
    "import mtranslate\n",
    "\n",
    "def translate_text(text, target_lang=\"en\"):\n",
    "    return mtranslate.translate(text, target_lang)\n",
    "\n",
    "\n",
    "user_text = \"গতকাল থেকে আমার হাতে এবং বুকে ফুসকুড়ি হচ্ছে, যার সাথে সারা শরীরে চুলকানিও হচ্ছে।\"\n",
    "user_text = translate_text(user_text, \"en\") \n",
    "\n",
    "print(\"Translated Text:\", user_text)\n",
    "\n",
    "nlp = spacy.load(\"en_ner_bc5cdr_md\")\n",
    "\n",
    "def extract_medical_entities(text):\n",
    "    doc = nlp(text)\n",
    "    symptoms = [ent.text for ent in doc.ents if ent.label_ == \"DISEASE\"]\n",
    "    return symptoms\n",
    "\n",
    "\n",
    "extracted_symptoms = extract_medical_entities(user_text)\n",
    "\n",
    "s=\"\"\n",
    "\n",
    "print(\"Extracted Symptoms:\", extracted_symptoms)\n",
    "for i in extracted_symptoms:\n",
    "    s += i + \", \"\n",
    "print(s)\n",
    "\n",
    "indices = match_synonyms(s)\n",
    "vec = vec_all0.copy()\n",
    "\n",
    "for j in indices:\n",
    "    vec[j] = 1\n",
    "    \n",
    "vec = np.array(vec).reshape(1, -1)\n",
    "a = sclf.predict(vec)\n",
    "a = a[0]\n",
    "print(mapping2[a])\n"
   ]
  }
 ],
 "metadata": {
  "kernelspec": {
   "display_name": "base",
   "language": "python",
   "name": "python3"
  },
  "language_info": {
   "codemirror_mode": {
    "name": "ipython",
    "version": 3
   },
   "file_extension": ".py",
   "mimetype": "text/x-python",
   "name": "python",
   "nbconvert_exporter": "python",
   "pygments_lexer": "ipython3",
   "version": "3.12.3"
  }
 },
 "nbformat": 4,
 "nbformat_minor": 2
}
